{
 "cells": [
  {
   "cell_type": "code",
   "execution_count": 1,
   "id": "5a34f74e",
   "metadata": {
    "_cell_guid": "b1076dfc-b9ad-4769-8c92-a6c4dae69d19",
    "_uuid": "8f2839f25d086af736a60e9eeb907d3b93b6e0e5",
    "execution": {
     "iopub.execute_input": "2024-10-12T17:52:07.711126Z",
     "iopub.status.busy": "2024-10-12T17:52:07.710770Z",
     "iopub.status.idle": "2024-10-12T17:52:31.661883Z",
     "shell.execute_reply": "2024-10-12T17:52:31.660977Z"
    },
    "papermill": {
     "duration": 23.958515,
     "end_time": "2024-10-12T17:52:31.664467",
     "exception": false,
     "start_time": "2024-10-12T17:52:07.705952",
     "status": "completed"
    },
    "tags": []
   },
   "outputs": [
    {
     "name": "stdout",
     "output_type": "stream",
     "text": [
      "Downloading https://www.cs.toronto.edu/~kriz/cifar-100-python.tar.gz to ./data/cifar-100-python.tar.gz\n"
     ]
    },
    {
     "name": "stderr",
     "output_type": "stream",
     "text": [
      "100%|██████████| 169001437/169001437 [00:11<00:00, 14510223.92it/s]\n"
     ]
    },
    {
     "name": "stdout",
     "output_type": "stream",
     "text": [
      "Extracting ./data/cifar-100-python.tar.gz to ./data\n",
      "Files already downloaded and verified\n"
     ]
    }
   ],
   "source": [
    "import torch\n",
    "import torchvision\n",
    "import torchvision.transforms as transforms\n",
    "\n",
    "# Define transforms for data augmentation and normalization\n",
    "transform = transforms.Compose([transforms.Resize((224, 224)), \n",
    "                                transforms.ToTensor(), \n",
    "                                transforms.Normalize(mean=(0.485, 0.456, 0.406), std=(0.229, 0.224, 0.225))\n",
    "                               ])\n",
    "\n",
    "# Load CIFAR-10 dataset\n",
    "trainset = torchvision.datasets.CIFAR100(root='./data', train=True, download=True, transform=transform)\n",
    "testset = torchvision.datasets.CIFAR100(root='./data', train=False, download=True, transform=transform)\n",
    "num_labels = 100\n",
    "\n",
    "device = 'cuda'\n",
    "\n",
    "# Create DataLoader for batch processing\n",
    "trainloader = torch.utils.data.DataLoader(trainset, batch_size=1000, shuffle=False, num_workers=2)\n",
    "testloader = torch.utils.data.DataLoader(testset, batch_size=1000, shuffle=False, num_workers=2)"
   ]
  },
  {
   "cell_type": "code",
   "execution_count": 2,
   "id": "7fbb7bb8",
   "metadata": {
    "execution": {
     "iopub.execute_input": "2024-10-12T17:52:31.684159Z",
     "iopub.status.busy": "2024-10-12T17:52:31.683315Z",
     "iopub.status.idle": "2024-10-12T17:54:18.907831Z",
     "shell.execute_reply": "2024-10-12T17:54:18.906691Z"
    },
    "papermill": {
     "duration": 107.236892,
     "end_time": "2024-10-12T17:54:18.910236",
     "exception": false,
     "start_time": "2024-10-12T17:52:31.673344",
     "status": "completed"
    },
    "tags": []
   },
   "outputs": [
    {
     "name": "stderr",
     "output_type": "stream",
     "text": [
      "/opt/conda/lib/python3.10/site-packages/torchvision/models/_utils.py:208: UserWarning: The parameter 'pretrained' is deprecated since 0.13 and may be removed in the future, please use 'weights' instead.\n",
      "  warnings.warn(\n",
      "/opt/conda/lib/python3.10/site-packages/torchvision/models/_utils.py:223: UserWarning: Arguments other than a weight enum or `None` for 'weights' are deprecated since 0.13 and may be removed in the future. The current behavior is equivalent to passing `weights=ResNet50_Weights.IMAGENET1K_V1`. You can also use `weights=ResNet50_Weights.DEFAULT` to get the most up-to-date weights.\n",
      "  warnings.warn(msg)\n",
      "Downloading: \"https://download.pytorch.org/models/resnet50-0676ba61.pth\" to /root/.cache/torch/hub/checkpoints/resnet50-0676ba61.pth\n",
      "100%|██████████| 97.8M/97.8M [00:00<00:00, 211MB/s]\n",
      "Extracting features from Train Set: 100%|██████████| 50/50 [01:27<00:00,  1.74s/batch]\n",
      "Extracting features from Test Set: 100%|██████████| 10/10 [00:18<00:00,  1.84s/batch]\n"
     ]
    }
   ],
   "source": [
    "import torch.nn as nn\n",
    "import torchvision.models as models\n",
    "import numpy as np\n",
    "from tqdm import tqdm\n",
    "\n",
    "# Load pretrained ResNet model and modify it to act as a feature extractor\n",
    "resnet50 = models.resnet50(pretrained=True)\n",
    "resnet50 = nn.Sequential(*list(resnet50.children())[:-1])  # Remove the final classification layer\n",
    "\n",
    "device = torch.device(\"cuda\" if torch.cuda.is_available() else \"cpu\")\n",
    "resnet50 = resnet50.to(device)\n",
    "\n",
    "# Function to extract features\n",
    "def extract_features(dataloader, dataset_name='Dataset'):\n",
    "    resnet50.eval()  # Set model to evaluation mode\n",
    "    features = []\n",
    "    labels = []\n",
    "    with torch.no_grad():\n",
    "        for inputs, targets in tqdm(dataloader, desc=f'Extracting features from {dataset_name}', unit='batch', total=len(dataloader)):\n",
    "            outputs = resnet50(inputs.to(device)).squeeze()\n",
    "            features.append(outputs.cpu())\n",
    "            labels.append(targets)\n",
    "    return torch.vstack(features), torch.hstack(labels)\n",
    "\n",
    "\n",
    "\n",
    "# Extract features from train and test set\n",
    "train_features, train_labels = extract_features(trainloader, 'Train Set')\n",
    "test_features, test_labels = extract_features(testloader, 'Test Set')"
   ]
  },
  {
   "cell_type": "code",
   "execution_count": 3,
   "id": "587f0602",
   "metadata": {
    "execution": {
     "iopub.execute_input": "2024-10-12T17:54:18.942963Z",
     "iopub.status.busy": "2024-10-12T17:54:18.942557Z",
     "iopub.status.idle": "2024-10-12T17:54:21.125262Z",
     "shell.execute_reply": "2024-10-12T17:54:21.124480Z"
    },
    "papermill": {
     "duration": 2.200524,
     "end_time": "2024-10-12T17:54:21.127567",
     "exception": false,
     "start_time": "2024-10-12T17:54:18.927043",
     "status": "completed"
    },
    "tags": []
   },
   "outputs": [],
   "source": [
    "from sklearn.metrics.pairwise import cosine_similarity\n",
    "\n",
    "def get_top_k_matches(train_features, test_features, train_indices, k=50):\n",
    "    if len(train_indices) == 0:\n",
    "        return np.array([[] for _ in test_features])\n",
    "\n",
    "    # Get the features of images belonging to the same cluster\n",
    "    cluster_features = train_features[train_indices]\n",
    "\n",
    "    # Compute cosine similarity between the test image and cluster images\n",
    "    similarities = cosine_similarity(test_features, cluster_features)\n",
    "    \n",
    "    # Get the top k most similar images\n",
    "    top_k_indices = np.argsort(similarities, axis=1)[:, ::-1][:, :k]\n",
    "    return train_indices[top_k_indices]"
   ]
  },
  {
   "cell_type": "code",
   "execution_count": 4,
   "id": "f9b6c9f0",
   "metadata": {
    "execution": {
     "iopub.execute_input": "2024-10-12T17:54:21.157320Z",
     "iopub.status.busy": "2024-10-12T17:54:21.156508Z",
     "iopub.status.idle": "2024-10-12T17:54:21.163101Z",
     "shell.execute_reply": "2024-10-12T17:54:21.162238Z"
    },
    "papermill": {
     "duration": 0.023358,
     "end_time": "2024-10-12T17:54:21.165000",
     "exception": false,
     "start_time": "2024-10-12T17:54:21.141642",
     "status": "completed"
    },
    "tags": []
   },
   "outputs": [],
   "source": [
    "def precision_at_k(true_label, top_k_labels, k):\n",
    "    top_k = top_k_labels[:k]\n",
    "    correct = torch.sum(top_k == true_label).item()\n",
    "    return correct / k\n",
    "\n",
    "def mean_average_precision(true_label, top_k_labels):\n",
    "    # Calculate precision at each rank and then compute average precision\n",
    "    precisions = []\n",
    "    correct = 0\n",
    "    for i, label in enumerate(top_k_labels):\n",
    "        if label == true_label:\n",
    "            correct += 1\n",
    "            precisions.append(correct / (i + 1))\n",
    "    return np.mean(precisions) if precisions else 0\n"
   ]
  },
  {
   "cell_type": "code",
   "execution_count": 5,
   "id": "b144f3ac",
   "metadata": {
    "execution": {
     "iopub.execute_input": "2024-10-12T17:54:21.194000Z",
     "iopub.status.busy": "2024-10-12T17:54:21.193685Z",
     "iopub.status.idle": "2024-10-12T17:54:21.203076Z",
     "shell.execute_reply": "2024-10-12T17:54:21.202199Z"
    },
    "papermill": {
     "duration": 0.026266,
     "end_time": "2024-10-12T17:54:21.205103",
     "exception": false,
     "start_time": "2024-10-12T17:54:21.178837",
     "status": "completed"
    },
    "tags": []
   },
   "outputs": [],
   "source": [
    "from collections import defaultdict\n",
    "\n",
    "def generate_random_hyperplanes(num_features, num_planes):\n",
    "    return torch.randn(num_features, num_planes)\n",
    "\n",
    "def projection_hash(features, hyperplanes):\n",
    "    projections = torch.mm(features, hyperplanes)\n",
    "    hash_codes = (projections > 0).int()\n",
    "    return hash_codes\n",
    "\n",
    "def get_hash_codes(train_features, test_features, num_planes):\n",
    "    assert train_features.shape[1] == test_features.shape[1], \"Feature dimensions of train and test sets must match.\"\n",
    "    hyperplanes = generate_random_hyperplanes(train_features.shape[1], num_planes)\n",
    "    \n",
    "    train_hash_codes = projection_hash(train_features, hyperplanes)\n",
    "\n",
    "    powers_of_two = torch.pow(2, torch.arange(num_planes - 1, -1, -1)).int()\n",
    "    \n",
    "    train_hash_codes_dict = defaultdict(list)\n",
    "    for i, train_hash_code in enumerate(train_hash_codes):\n",
    "        key = torch.dot(train_hash_code, powers_of_two).item()\n",
    "        train_hash_codes_dict[key].append(i)\n",
    "\n",
    "    for code in train_hash_codes_dict.keys():\n",
    "        train_hash_codes_dict[code] = np.array(train_hash_codes_dict[code])\n",
    "    \n",
    "    test_hash_codes = projection_hash(test_features, hyperplanes)\n",
    "    test_hash_codes = np.array([torch.dot(test_hash_code, powers_of_two).item() for test_hash_code in test_hash_codes])\n",
    "    \n",
    "    return train_hash_codes_dict, test_hash_codes"
   ]
  },
  {
   "cell_type": "code",
   "execution_count": 6,
   "id": "2aa9898b",
   "metadata": {
    "execution": {
     "iopub.execute_input": "2024-10-12T17:54:21.233809Z",
     "iopub.status.busy": "2024-10-12T17:54:21.233512Z",
     "iopub.status.idle": "2024-10-12T17:54:21.240191Z",
     "shell.execute_reply": "2024-10-12T17:54:21.239306Z"
    },
    "papermill": {
     "duration": 0.023239,
     "end_time": "2024-10-12T17:54:21.242087",
     "exception": false,
     "start_time": "2024-10-12T17:54:21.218848",
     "status": "completed"
    },
    "tags": []
   },
   "outputs": [],
   "source": [
    "def get_top_matches(train_features, test_features, num_planes):\n",
    "    train_hash_codes_dict, test_hash_codes = get_hash_codes(train_features, test_features, num_planes)\n",
    "\n",
    "    # For each test image, find the top 50 matches\n",
    "    top_k_matches = [np.array([]) for _ in range(len(test_features))]\n",
    "    for hash in range(2 ** num_planes):\n",
    "        if (len(np.nonzero(test_hash_codes == hash)[0]) == 0):\n",
    "            continue\n",
    "        matches = get_top_k_matches(train_features, test_features[test_hash_codes == hash], train_hash_codes_dict[hash])\n",
    "        for i, idx in enumerate(np.nonzero(test_hash_codes == hash)[0]):\n",
    "            top_k_matches[idx] = matches[i]\n",
    "\n",
    "    return top_k_matches"
   ]
  },
  {
   "cell_type": "code",
   "execution_count": 7,
   "id": "2fa639d8",
   "metadata": {
    "execution": {
     "iopub.execute_input": "2024-10-12T17:54:21.270958Z",
     "iopub.status.busy": "2024-10-12T17:54:21.270615Z",
     "iopub.status.idle": "2024-10-12T17:54:21.276728Z",
     "shell.execute_reply": "2024-10-12T17:54:21.275876Z"
    },
    "papermill": {
     "duration": 0.022767,
     "end_time": "2024-10-12T17:54:21.278638",
     "exception": false,
     "start_time": "2024-10-12T17:54:21.255871",
     "status": "completed"
    },
    "tags": []
   },
   "outputs": [],
   "source": [
    "def evaluate(train_labels, test_labels, top_k_matches):\n",
    "    # Evaluate for all test images\n",
    "    precision_10 = []\n",
    "    precision_50 = []\n",
    "    mean_ap = []\n",
    "    for i, matches in enumerate(top_k_matches):\n",
    "        true_label = test_labels[i]\n",
    "        matched_labels = train_labels[matches]\n",
    "\n",
    "        precision_10.append(precision_at_k(true_label, matched_labels, 10))\n",
    "        precision_50.append(precision_at_k(true_label, matched_labels, 50))\n",
    "        mean_ap.append(mean_average_precision(true_label, matched_labels))\n",
    "\n",
    "    return np.mean(precision_10), np.mean(precision_50), np.mean(mean_ap)"
   ]
  },
  {
   "cell_type": "code",
   "execution_count": 8,
   "id": "1d83f03d",
   "metadata": {
    "execution": {
     "iopub.execute_input": "2024-10-12T17:54:21.307745Z",
     "iopub.status.busy": "2024-10-12T17:54:21.307128Z",
     "iopub.status.idle": "2024-10-12T17:54:21.311851Z",
     "shell.execute_reply": "2024-10-12T17:54:21.311042Z"
    },
    "papermill": {
     "duration": 0.021193,
     "end_time": "2024-10-12T17:54:21.313714",
     "exception": false,
     "start_time": "2024-10-12T17:54:21.292521",
     "status": "completed"
    },
    "tags": []
   },
   "outputs": [],
   "source": [
    "def run(train_features, train_labels, test_features, test_labels, num_planes):\n",
    "    top_k_matches = get_top_matches(train_features, test_features, num_planes)\n",
    "    return evaluate(train_labels, test_labels, top_k_matches)"
   ]
  },
  {
   "cell_type": "code",
   "execution_count": 9,
   "id": "aed721ef",
   "metadata": {
    "execution": {
     "iopub.execute_input": "2024-10-12T17:54:21.342538Z",
     "iopub.status.busy": "2024-10-12T17:54:21.342188Z",
     "iopub.status.idle": "2024-10-12T17:55:30.788882Z",
     "shell.execute_reply": "2024-10-12T17:55:30.787971Z"
    },
    "papermill": {
     "duration": 69.464013,
     "end_time": "2024-10-12T17:55:30.791470",
     "exception": false,
     "start_time": "2024-10-12T17:54:21.327457",
     "status": "completed"
    },
    "tags": []
   },
   "outputs": [
    {
     "name": "stderr",
     "output_type": "stream",
     "text": [
      "Processing Num Clusters:: 100%|██████████| 6/6 [01:08<00:00, 11.42s/it]\n"
     ]
    },
    {
     "data": {
      "image/png": "[encoded data removed]",
      "text/plain": [
       "<Figure size 1000x600 with 1 Axes>"
      ]
     },
     "metadata": {},
     "output_type": "display_data"
    }
   ],
   "source": [
    "num_planes_list = list(range(1, 7))\n",
    "prec_10_list = []\n",
    "prec_50_list = []\n",
    "map_list = []\n",
    "\n",
    "for num_planes in tqdm(num_planes_list, desc='Processing Num Clusters:', total=len(num_planes_list)):\n",
    "    prec_10, prec_50, map_value = run(train_features, train_labels, test_features, test_labels, num_planes)\n",
    "\n",
    "    prec_10_list.append(prec_10)\n",
    "    prec_50_list.append(prec_50)\n",
    "    map_list.append(map_value)\n",
    "\n",
    "\n",
    "import matplotlib.pyplot as plt\n",
    "\n",
    "# Plotting the results\n",
    "plt.figure(figsize=(10, 6))\n",
    "plt.plot(num_planes_list, prec_10_list, marker='o', label='Precision@10')\n",
    "plt.plot(num_planes_list, prec_50_list, marker='s', label='Precision@50')\n",
    "plt.plot(num_planes_list, map_list, marker='d', label='MAP')\n",
    "\n",
    "# Adding titles and labels\n",
    "plt.title('Precision and MAP vs. Num Planes')\n",
    "plt.xlabel('Number of HyperPlanes')\n",
    "plt.ylabel('Values')\n",
    "plt.legend()\n",
    "plt.grid(True)\n",
    "\n",
    "plt.savefig('variation_with_num_hyperplanes.png', dpi=300)\n",
    "# Show the plot\n",
    "plt.show()"
   ]
  }
 ],
 "metadata": {
  "kaggle": {
   "accelerator": "gpu",
   "dataSources": [],
   "dockerImageVersionId": 30787,
   "isGpuEnabled": true,
   "isInternetEnabled": true,
   "language": "python",
   "sourceType": "notebook"
  },
  "kernelspec": {
   "display_name": "Python 3",
   "language": "python",
   "name": "python3"
  },
  "language_info": {
   "codemirror_mode": {
    "name": "ipython",
    "version": 3
   },
   "file_extension": ".py",
   "mimetype": "text/x-python",
   "name": "python",
   "nbconvert_exporter": "python",
   "pygments_lexer": "ipython3",
   "version": "3.10.14"
  },
  "papermill": {
   "default_parameters": {},
   "duration": 209.24508,
   "end_time": "2024-10-12T17:55:33.263232",
   "environment_variables": {},
   "exception": null,
   "input_path": "__notebook__.ipynb",
   "output_path": "__notebook__.ipynb",
   "parameters": {},
   "start_time": "2024-10-12T17:52:04.018152",
   "version": "2.6.0"
  }
 },
 "nbformat": 4,
 "nbformat_minor": 5
}
