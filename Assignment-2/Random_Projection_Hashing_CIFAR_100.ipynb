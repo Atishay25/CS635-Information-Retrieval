{
 "cells": [
  {
   "cell_type": "code",
   "execution_count": 1,
   "id": "43c9ffd6",
   "metadata": {
    "_cell_guid": "b1076dfc-b9ad-4769-8c92-a6c4dae69d19",
    "_uuid": "8f2839f25d086af736a60e9eeb907d3b93b6e0e5",
    "execution": {
     "iopub.execute_input": "2024-10-11T19:10:20.859753Z",
     "iopub.status.busy": "2024-10-11T19:10:20.858943Z",
     "iopub.status.idle": "2024-10-11T19:10:33.698312Z",
     "shell.execute_reply": "2024-10-11T19:10:33.697488Z"
    },
    "papermill": {
     "duration": 12.847175,
     "end_time": "2024-10-11T19:10:33.700665",
     "exception": false,
     "start_time": "2024-10-11T19:10:20.853490",
     "status": "completed"
    },
    "tags": []
   },
   "outputs": [
    {
     "name": "stdout",
     "output_type": "stream",
     "text": [
      "Downloading https://www.cs.toronto.edu/~kriz/cifar-100-python.tar.gz to ./data/cifar-100-python.tar.gz\n"
     ]
    },
    {
     "name": "stderr",
     "output_type": "stream",
     "text": [
      "100%|██████████| 169001437/169001437 [00:04<00:00, 38771500.21it/s]\n"
     ]
    },
    {
     "name": "stdout",
     "output_type": "stream",
     "text": [
      "Extracting ./data/cifar-100-python.tar.gz to ./data\n",
      "Files already downloaded and verified\n"
     ]
    }
   ],
   "source": [
    "import torch\n",
    "import torchvision\n",
    "import torchvision.transforms as transforms\n",
    "\n",
    "# Define transforms for data augmentation and normalization\n",
    "transform = transforms.Compose([transforms.Resize((224, 224)), \n",
    "                                transforms.ToTensor(), \n",
    "                                transforms.Normalize(mean=(0.485, 0.456, 0.406), std=(0.229, 0.224, 0.225))\n",
    "                               ])\n",
    "\n",
    "# Load CIFAR-10 dataset\n",
    "trainset = torchvision.datasets.CIFAR100(root='./data', train=True, download=True, transform=transform)\n",
    "testset = torchvision.datasets.CIFAR100(root='./data', train=False, download=True, transform=transform)\n",
    "num_labels = 100\n",
    "\n",
    "device = 'cuda'\n",
    "\n",
    "# Create DataLoader for batch processing\n",
    "trainloader = torch.utils.data.DataLoader(trainset, batch_size=1000, shuffle=False, num_workers=2)\n",
    "testloader = torch.utils.data.DataLoader(testset, batch_size=1000, shuffle=False, num_workers=2)"
   ]
  },
  {
   "cell_type": "code",
   "execution_count": 2,
   "id": "2c80fa46",
   "metadata": {
    "execution": {
     "iopub.execute_input": "2024-10-11T19:10:33.717032Z",
     "iopub.status.busy": "2024-10-11T19:10:33.716055Z",
     "iopub.status.idle": "2024-10-11T19:12:20.461536Z",
     "shell.execute_reply": "2024-10-11T19:12:20.460273Z"
    },
    "papermill": {
     "duration": 106.756056,
     "end_time": "2024-10-11T19:12:20.464185",
     "exception": false,
     "start_time": "2024-10-11T19:10:33.708129",
     "status": "completed"
    },
    "tags": []
   },
   "outputs": [
    {
     "name": "stderr",
     "output_type": "stream",
     "text": [
      "/opt/conda/lib/python3.10/site-packages/torchvision/models/_utils.py:208: UserWarning: The parameter 'pretrained' is deprecated since 0.13 and may be removed in the future, please use 'weights' instead.\n",
      "  warnings.warn(\n",
      "/opt/conda/lib/python3.10/site-packages/torchvision/models/_utils.py:223: UserWarning: Arguments other than a weight enum or `None` for 'weights' are deprecated since 0.13 and may be removed in the future. The current behavior is equivalent to passing `weights=ResNet50_Weights.IMAGENET1K_V1`. You can also use `weights=ResNet50_Weights.DEFAULT` to get the most up-to-date weights.\n",
      "  warnings.warn(msg)\n",
      "Downloading: \"https://download.pytorch.org/models/resnet50-0676ba61.pth\" to /root/.cache/torch/hub/checkpoints/resnet50-0676ba61.pth\n",
      "100%|██████████| 97.8M/97.8M [00:00<00:00, 203MB/s]\n",
      "Extracting features from Train Set: 100%|██████████| 50/50 [01:26<00:00,  1.73s/batch]\n",
      "Extracting features from Test Set: 100%|██████████| 10/10 [00:18<00:00,  1.86s/batch]\n"
     ]
    }
   ],
   "source": [
    "import torch.nn as nn\n",
    "import torchvision.models as models\n",
    "import numpy as np\n",
    "from tqdm import tqdm\n",
    "\n",
    "# Load pretrained ResNet model and modify it to act as a feature extractor\n",
    "resnet50 = models.resnet50(pretrained=True)\n",
    "resnet50 = nn.Sequential(*list(resnet50.children())[:-1])  # Remove the final classification layer\n",
    "\n",
    "device = torch.device(\"cuda\" if torch.cuda.is_available() else \"cpu\")\n",
    "resnet50 = resnet50.to(device)\n",
    "\n",
    "# Function to extract features\n",
    "def extract_features(dataloader, dataset_name='Dataset'):\n",
    "    resnet50.eval()  # Set model to evaluation mode\n",
    "    features = []\n",
    "    labels = []\n",
    "    with torch.no_grad():\n",
    "        for inputs, targets in tqdm(dataloader, desc=f'Extracting features from {dataset_name}', unit='batch', total=len(dataloader)):\n",
    "            outputs = resnet50(inputs.to(device)).squeeze()\n",
    "            features.append(outputs.cpu())\n",
    "            labels.append(targets)\n",
    "    return torch.vstack(features), torch.hstack(labels)\n",
    "\n",
    "\n",
    "\n",
    "# Extract features from train and test set\n",
    "train_features, train_labels = extract_features(trainloader, 'Train Set')\n",
    "test_features, test_labels = extract_features(testloader, 'Test Set')"
   ]
  },
  {
   "cell_type": "code",
   "execution_count": 3,
   "id": "df5cb7e4",
   "metadata": {
    "execution": {
     "iopub.execute_input": "2024-10-11T19:12:20.492007Z",
     "iopub.status.busy": "2024-10-11T19:12:20.491626Z",
     "iopub.status.idle": "2024-10-11T19:12:21.765404Z",
     "shell.execute_reply": "2024-10-11T19:12:21.764514Z"
    },
    "papermill": {
     "duration": 1.290535,
     "end_time": "2024-10-11T19:12:21.767810",
     "exception": false,
     "start_time": "2024-10-11T19:12:20.477275",
     "status": "completed"
    },
    "tags": []
   },
   "outputs": [],
   "source": [
    "from sklearn.metrics.pairwise import cosine_similarity\n",
    "\n",
    "def get_top_k_matches(train_features, test_feature, cluster_indices, k=50):\n",
    "    # Get the features of images belonging to the same cluster\n",
    "    cluster_features = train_features[cluster_indices]\n",
    "\n",
    "    # Compute cosine similarity between the test image and cluster images\n",
    "    similarities = cosine_similarity(test_feature.reshape(1, -1), cluster_features).flatten()\n",
    "    \n",
    "    # Get the top k most similar images\n",
    "    top_k_indices = np.argsort(similarities)[::-1][:k]\n",
    "    return cluster_indices[top_k_indices]"
   ]
  },
  {
   "cell_type": "code",
   "execution_count": 4,
   "id": "8eb99257",
   "metadata": {
    "execution": {
     "iopub.execute_input": "2024-10-11T19:12:21.795450Z",
     "iopub.status.busy": "2024-10-11T19:12:21.794946Z",
     "iopub.status.idle": "2024-10-11T19:12:21.801468Z",
     "shell.execute_reply": "2024-10-11T19:12:21.800584Z"
    },
    "papermill": {
     "duration": 0.022656,
     "end_time": "2024-10-11T19:12:21.803537",
     "exception": false,
     "start_time": "2024-10-11T19:12:21.780881",
     "status": "completed"
    },
    "tags": []
   },
   "outputs": [],
   "source": [
    "def precision_at_k(true_label, top_k_labels, k):\n",
    "    top_k = top_k_labels[:k]\n",
    "    correct = torch.sum(top_k == true_label).item()\n",
    "    return correct / k\n",
    "\n",
    "def mean_average_precision(true_label, top_k_labels):\n",
    "    # Calculate precision at each rank and then compute average precision\n",
    "    precisions = []\n",
    "    correct = 0\n",
    "    for i, label in enumerate(top_k_labels):\n",
    "        if label == true_label:\n",
    "            correct += 1\n",
    "            precisions.append(correct / (i + 1))\n",
    "    return np.mean(precisions) if precisions else 0\n"
   ]
  },
  {
   "cell_type": "code",
   "execution_count": 5,
   "id": "26e69387",
   "metadata": {
    "execution": {
     "iopub.execute_input": "2024-10-11T19:12:21.830386Z",
     "iopub.status.busy": "2024-10-11T19:12:21.830048Z",
     "iopub.status.idle": "2024-10-11T19:12:21.839448Z",
     "shell.execute_reply": "2024-10-11T19:12:21.838572Z"
    },
    "papermill": {
     "duration": 0.025314,
     "end_time": "2024-10-11T19:12:21.841491",
     "exception": false,
     "start_time": "2024-10-11T19:12:21.816177",
     "status": "completed"
    },
    "tags": []
   },
   "outputs": [],
   "source": [
    "from collections import defaultdict\n",
    "\n",
    "def generate_random_hyperplanes(num_features, num_planes):\n",
    "    return torch.randn(num_features, num_planes)\n",
    "\n",
    "def projection_hash(features, hyperplanes):\n",
    "    projections = torch.mm(features, hyperplanes)\n",
    "    hash_codes = (projections > 0).int()\n",
    "    return hash_codes\n",
    "\n",
    "def get_hash_codes(train_features, test_features, num_planes):\n",
    "    assert train_features.shape[1] == test_features.shape[1], \"Feature dimensions of train and test sets must match.\"\n",
    "    hyperplanes = generate_random_hyperplanes(train_features.shape[1], num_planes)\n",
    "    \n",
    "    train_hash_codes = projection_hash(train_features, hyperplanes)\n",
    "\n",
    "    powers_of_two = torch.pow(2, torch.arange(num_planes - 1, -1, -1)).int()\n",
    "    \n",
    "    train_hash_codes_dict = defaultdict(list)\n",
    "    for i, train_hash_code in enumerate(train_hash_codes):\n",
    "        key = torch.dot(train_hash_code, powers_of_two).item()\n",
    "        train_hash_codes_dict[key].append(i)\n",
    "\n",
    "    for code in train_hash_codes_dict.keys():\n",
    "        train_hash_codes_dict[code] = np.array(train_hash_codes_dict[code])\n",
    "    \n",
    "    test_hash_codes = projection_hash(test_features, hyperplanes)\n",
    "    test_hash_codes = np.array([torch.dot(test_hash_code, powers_of_two).item() for test_hash_code in test_hash_codes])\n",
    "    \n",
    "    return train_hash_codes_dict, test_hash_codes"
   ]
  },
  {
   "cell_type": "code",
   "execution_count": 6,
   "id": "c71dd653",
   "metadata": {
    "execution": {
     "iopub.execute_input": "2024-10-11T19:12:21.868312Z",
     "iopub.status.busy": "2024-10-11T19:12:21.867976Z",
     "iopub.status.idle": "2024-10-11T19:12:21.874265Z",
     "shell.execute_reply": "2024-10-11T19:12:21.873472Z"
    },
    "papermill": {
     "duration": 0.022073,
     "end_time": "2024-10-11T19:12:21.876187",
     "exception": false,
     "start_time": "2024-10-11T19:12:21.854114",
     "status": "completed"
    },
    "tags": []
   },
   "outputs": [],
   "source": [
    "def get_top_matches(train_features, test_features, num_planes):\n",
    "    train_hash_codes_dict, test_hash_codes = get_hash_codes(train_features, test_features, num_planes)\n",
    "\n",
    "    # For each test image, find the top 50 matches\n",
    "    top_k_matches = []\n",
    "    for i, test_feature in enumerate(test_features):\n",
    "        cluster_indices = train_hash_codes_dict[test_hash_codes[i]]\n",
    "\n",
    "        if (len(cluster_indices) == 0):\n",
    "            top_k_matches.append([])\n",
    "            continue\n",
    "        \n",
    "        # Get the top 50 matches based on cosine similarity\n",
    "        top_k_matches.append(get_top_k_matches(train_features, test_feature, cluster_indices))\n",
    "\n",
    "    return top_k_matches"
   ]
  },
  {
   "cell_type": "code",
   "execution_count": 7,
   "id": "a9bf4104",
   "metadata": {
    "execution": {
     "iopub.execute_input": "2024-10-11T19:12:21.902522Z",
     "iopub.status.busy": "2024-10-11T19:12:21.902169Z",
     "iopub.status.idle": "2024-10-11T19:12:21.908627Z",
     "shell.execute_reply": "2024-10-11T19:12:21.907806Z"
    },
    "papermill": {
     "duration": 0.021715,
     "end_time": "2024-10-11T19:12:21.910456",
     "exception": false,
     "start_time": "2024-10-11T19:12:21.888741",
     "status": "completed"
    },
    "tags": []
   },
   "outputs": [],
   "source": [
    "def evaluate(train_labels, test_labels, top_k_matches):\n",
    "    # Evaluate for all test images\n",
    "    precision_10 = []\n",
    "    precision_50 = []\n",
    "    mean_ap = []\n",
    "    for i, matches in enumerate(top_k_matches):\n",
    "        true_label = test_labels[i]\n",
    "        matched_labels = train_labels[matches]\n",
    "\n",
    "        precision_10.append(precision_at_k(true_label, matched_labels, 10))\n",
    "        precision_50.append(precision_at_k(true_label, matched_labels, 50))\n",
    "        mean_ap.append(mean_average_precision(true_label, matched_labels))\n",
    "\n",
    "    return np.mean(precision_10), np.mean(precision_50), np.mean(mean_ap)"
   ]
  },
  {
   "cell_type": "code",
   "execution_count": 8,
   "id": "ca2385eb",
   "metadata": {
    "execution": {
     "iopub.execute_input": "2024-10-11T19:12:21.936785Z",
     "iopub.status.busy": "2024-10-11T19:12:21.936464Z",
     "iopub.status.idle": "2024-10-11T19:12:21.940940Z",
     "shell.execute_reply": "2024-10-11T19:12:21.940181Z"
    },
    "papermill": {
     "duration": 0.019866,
     "end_time": "2024-10-11T19:12:21.942839",
     "exception": false,
     "start_time": "2024-10-11T19:12:21.922973",
     "status": "completed"
    },
    "tags": []
   },
   "outputs": [],
   "source": [
    "def run(train_features, train_labels, test_features, test_labels, num_planes):\n",
    "    top_k_matches = get_top_matches(train_features, test_features, num_planes)\n",
    "    return evaluate(train_labels, test_labels, top_k_matches)"
   ]
  },
  {
   "cell_type": "code",
   "execution_count": 9,
   "id": "e796cd07",
   "metadata": {
    "execution": {
     "iopub.execute_input": "2024-10-11T19:12:21.969769Z",
     "iopub.status.busy": "2024-10-11T19:12:21.969364Z",
     "iopub.status.idle": "2024-10-11T23:27:40.685478Z",
     "shell.execute_reply": "2024-10-11T23:27:40.684578Z"
    },
    "papermill": {
     "duration": 15318.73249,
     "end_time": "2024-10-11T23:27:40.688194",
     "exception": false,
     "start_time": "2024-10-11T19:12:21.955704",
     "status": "completed"
    },
    "tags": []
   },
   "outputs": [
    {
     "name": "stderr",
     "output_type": "stream",
     "text": [
      "Processing Num Clusters:: 100%|██████████| 15/15 [4:15:17<00:00, 1021.19s/it]\n"
     ]
    },
    {
     "data": {
      "image/png": "[encoded data removed]",
      "text/plain": [
       "<Figure size 1000x600 with 1 Axes>"
      ]
     },
     "metadata": {},
     "output_type": "display_data"
    }
   ],
   "source": [
    "num_planes_list = list(range(1, 16))\n",
    "prec_10_list = []\n",
    "prec_50_list = []\n",
    "map_list = []\n",
    "\n",
    "for num_planes in tqdm(num_planes_list, desc='Processing Num Clusters:', total=len(num_planes_list)):\n",
    "    prec_10, prec_50, map_value = run(train_features, train_labels, test_features, test_labels, num_planes)\n",
    "\n",
    "    prec_10_list.append(prec_10)\n",
    "    prec_50_list.append(prec_50)\n",
    "    map_list.append(map_value)\n",
    "\n",
    "\n",
    "import matplotlib.pyplot as plt\n",
    "\n",
    "# Plotting the results\n",
    "plt.figure(figsize=(10, 6))\n",
    "plt.plot(num_planes_list, prec_10_list, marker='o', label='Precision@10')\n",
    "plt.plot(num_planes_list, prec_50_list, marker='s', label='Precision@50')\n",
    "plt.plot(num_planes_list, map_list, marker='d', label='MAP')\n",
    "\n",
    "# Adding titles and labels\n",
    "plt.title('Precision and MAP vs. Num Planes')\n",
    "plt.xlabel('Number of HyperPlanes')\n",
    "plt.ylabel('Values')\n",
    "plt.legend()\n",
    "plt.grid(True)\n",
    "\n",
    "plt.savefig('variation_with_num_hyperplanes.png', dpi=300)\n",
    "# Show the plot\n",
    "plt.show()"
   ]
  }
 ],
 "metadata": {
  "kaggle": {
   "accelerator": "gpu",
   "dataSources": [],
   "dockerImageVersionId": 30787,
   "isGpuEnabled": true,
   "isInternetEnabled": true,
   "language": "python",
   "sourceType": "notebook"
  },
  "kernelspec": {
   "display_name": "Python 3",
   "language": "python",
   "name": "python3"
  },
  "language_info": {
   "codemirror_mode": {
    "name": "ipython",
    "version": 3
   },
   "file_extension": ".py",
   "mimetype": "text/x-python",
   "name": "python",
   "nbconvert_exporter": "python",
   "pygments_lexer": "ipython3",
   "version": "3.10.14"
  },
  "papermill": {
   "default_parameters": {},
   "duration": 15445.016924,
   "end_time": "2024-10-11T23:27:43.122281",
   "environment_variables": {},
   "exception": null,
   "input_path": "__notebook__.ipynb",
   "output_path": "__notebook__.ipynb",
   "parameters": {},
   "start_time": "2024-10-11T19:10:18.105357",
   "version": "2.6.0"
  }
 },
 "nbformat": 4,
 "nbformat_minor": 5
}
