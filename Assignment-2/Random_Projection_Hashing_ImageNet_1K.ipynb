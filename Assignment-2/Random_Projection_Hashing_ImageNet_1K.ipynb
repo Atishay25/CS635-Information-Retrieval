{
 "cells": [
  {
   "cell_type": "code",
   "execution_count": 1,
   "id": "b8e132f0",
   "metadata": {
    "_cell_guid": "b1076dfc-b9ad-4769-8c92-a6c4dae69d19",
    "_uuid": "8f2839f25d086af736a60e9eeb907d3b93b6e0e5",
    "execution": {
     "iopub.execute_input": "2024-10-15T11:25:27.292520Z",
     "iopub.status.busy": "2024-10-15T11:25:27.292106Z",
     "iopub.status.idle": "2024-10-15T11:28:57.462002Z",
     "shell.execute_reply": "2024-10-15T11:28:57.460873Z"
    },
    "papermill": {
     "duration": 210.17811,
     "end_time": "2024-10-15T11:28:57.465499",
     "exception": false,
     "start_time": "2024-10-15T11:25:27.287389",
     "status": "completed"
    },
    "tags": []
   },
   "outputs": [
    {
     "name": "stderr",
     "output_type": "stream",
     "text": [
      "Loading Train Data: 100%|██████████| 60/60 [03:21<00:00,  3.36s/it]\n",
      "Loading Test Data: 100%|██████████| 3/3 [00:03<00:00,  1.31s/it]"
     ]
    },
    {
     "name": "stdout",
     "output_type": "stream",
     "text": [
      "torch.Size([120000, 2048])\n",
      "torch.Size([120000])\n",
      "torch.Size([20000, 2048])\n",
      "torch.Size([20000])\n"
     ]
    },
    {
     "name": "stderr",
     "output_type": "stream",
     "text": [
      "\n"
     ]
    }
   ],
   "source": [
    "import torch\n",
    "from tqdm import tqdm\n",
    "\n",
    "device = torch.device(\"cuda\" if torch.cuda.is_available() else \"cpu\")\n",
    "\n",
    "train_features = torch.tensor([], dtype=torch.float)\n",
    "train_labels = torch.tensor([], dtype=torch.int)\n",
    "\n",
    "for i in tqdm(range(1, 61), desc='Loading Train Data', total=60):\n",
    "    loaded_tensors = torch.load(f'/kaggle/input/imagenet-1k-data/trainset_{i}.pth', weights_only=True)\n",
    "    train_features = torch.cat((train_features, loaded_tensors['trainset_features']), axis=0)\n",
    "    train_labels = torch.cat((train_labels, loaded_tensors['trainset_labels']), axis=0)\n",
    "    \n",
    "train_indices = torch.randperm(train_features.shape[0])[:120000]\n",
    "train_features = train_features[train_indices]\n",
    "train_labels = train_labels[train_indices]\n",
    "\n",
    "test_features = torch.tensor([], dtype=torch.float)\n",
    "test_labels = torch.tensor([], dtype=torch.int)\n",
    "\n",
    "for i in tqdm(range(1, 4), desc='Loading Test Data', total=3):\n",
    "    loaded_tensors = torch.load(f'/kaggle/input/imagenet-1k-data/testset_{i}.pth', weights_only=True)\n",
    "    test_features = torch.cat((test_features, loaded_tensors['testset_features']), axis=0)\n",
    "    test_labels = torch.cat((test_labels, loaded_tensors['testset_labels']), axis=0)\n",
    "\n",
    "\n",
    "test_indices = torch.randperm(test_features.shape[0])[:20000]\n",
    "test_features = test_features[test_indices]\n",
    "test_labels = test_labels[test_indices]\n",
    "\n",
    "    \n",
    "num_labels = 1000\n",
    "\n",
    "print (train_features.shape)\n",
    "print (train_labels.shape)\n",
    "print (test_features.shape)\n",
    "print (test_labels.shape)"
   ]
  },
  {
   "cell_type": "code",
   "execution_count": 2,
   "id": "d28dd281",
   "metadata": {
    "execution": {
     "iopub.execute_input": "2024-10-15T11:28:57.486763Z",
     "iopub.status.busy": "2024-10-15T11:28:57.485797Z",
     "iopub.status.idle": "2024-10-15T11:28:58.681805Z",
     "shell.execute_reply": "2024-10-15T11:28:58.681038Z"
    },
    "papermill": {
     "duration": 1.207447,
     "end_time": "2024-10-15T11:28:58.684056",
     "exception": false,
     "start_time": "2024-10-15T11:28:57.476609",
     "status": "completed"
    },
    "tags": []
   },
   "outputs": [],
   "source": [
    "from sklearn.metrics.pairwise import cosine_similarity\n",
    "import numpy as np\n",
    "\n",
    "def get_top_k_matches(train_features, test_features, train_indices, k=50):\n",
    "    if len(train_indices) == 0:\n",
    "        return np.array([[] for _ in test_features])\n",
    "\n",
    "    # Get the features of images belonging to the same cluster\n",
    "    cluster_features = train_features[train_indices]\n",
    "\n",
    "    # Compute cosine similarity between the test image and cluster images\n",
    "    similarities = cosine_similarity(test_features, cluster_features)\n",
    "    \n",
    "    # Get the top k most similar images\n",
    "    top_k_indices = np.argsort(similarities, axis=1)[:, ::-1][:, :k]\n",
    "    return train_indices[top_k_indices]"
   ]
  },
  {
   "cell_type": "code",
   "execution_count": 3,
   "id": "375d8dee",
   "metadata": {
    "execution": {
     "iopub.execute_input": "2024-10-15T11:28:58.703087Z",
     "iopub.status.busy": "2024-10-15T11:28:58.702452Z",
     "iopub.status.idle": "2024-10-15T11:28:58.708688Z",
     "shell.execute_reply": "2024-10-15T11:28:58.707847Z"
    },
    "papermill": {
     "duration": 0.018244,
     "end_time": "2024-10-15T11:28:58.710586",
     "exception": false,
     "start_time": "2024-10-15T11:28:58.692342",
     "status": "completed"
    },
    "tags": []
   },
   "outputs": [],
   "source": [
    "def precision_at_k(true_label, top_k_labels, k):\n",
    "    top_k = top_k_labels[:k]\n",
    "    correct = torch.sum(top_k == true_label).item()\n",
    "    return correct / k\n",
    "\n",
    "def mean_average_precision(true_label, top_k_labels):\n",
    "    # Calculate precision at each rank and then compute average precision\n",
    "    precisions = []\n",
    "    correct = 0\n",
    "    for i, label in enumerate(top_k_labels):\n",
    "        if label == true_label:\n",
    "            correct += 1\n",
    "            precisions.append(correct / (i + 1))\n",
    "    return np.mean(precisions) if precisions else 0\n"
   ]
  },
  {
   "cell_type": "code",
   "execution_count": 4,
   "id": "64c10bb3",
   "metadata": {
    "execution": {
     "iopub.execute_input": "2024-10-15T11:28:58.727956Z",
     "iopub.status.busy": "2024-10-15T11:28:58.727447Z",
     "iopub.status.idle": "2024-10-15T11:28:58.736277Z",
     "shell.execute_reply": "2024-10-15T11:28:58.735455Z"
    },
    "papermill": {
     "duration": 0.019643,
     "end_time": "2024-10-15T11:28:58.738169",
     "exception": false,
     "start_time": "2024-10-15T11:28:58.718526",
     "status": "completed"
    },
    "tags": []
   },
   "outputs": [],
   "source": [
    "from collections import defaultdict\n",
    "\n",
    "def generate_random_hyperplanes(num_features, num_planes):\n",
    "    return torch.randn(num_features, num_planes)\n",
    "\n",
    "def projection_hash(features, hyperplanes):\n",
    "    projections = torch.mm(features, hyperplanes)\n",
    "    hash_codes = (projections > 0).int()\n",
    "    return hash_codes\n",
    "\n",
    "def get_hash_codes(train_features, test_features, num_planes):\n",
    "    assert train_features.shape[1] == test_features.shape[1], \"Feature dimensions of train and test sets must match.\"\n",
    "    hyperplanes = generate_random_hyperplanes(train_features.shape[1], num_planes)\n",
    "    \n",
    "    train_hash_codes = projection_hash(train_features, hyperplanes)\n",
    "\n",
    "    powers_of_two = torch.pow(2, torch.arange(num_planes - 1, -1, -1)).int()\n",
    "    \n",
    "    train_hash_codes_dict = defaultdict(list)\n",
    "    for i, train_hash_code in enumerate(train_hash_codes):\n",
    "        key = torch.dot(train_hash_code, powers_of_two).item()\n",
    "        train_hash_codes_dict[key].append(i)\n",
    "\n",
    "    for code in train_hash_codes_dict.keys():\n",
    "        train_hash_codes_dict[code] = np.array(train_hash_codes_dict[code])\n",
    "    \n",
    "    test_hash_codes = projection_hash(test_features, hyperplanes)\n",
    "    test_hash_codes = np.array([torch.dot(test_hash_code, powers_of_two).item() for test_hash_code in test_hash_codes])\n",
    "    \n",
    "    return train_hash_codes_dict, test_hash_codes"
   ]
  },
  {
   "cell_type": "code",
   "execution_count": 5,
   "id": "9c05c35e",
   "metadata": {
    "execution": {
     "iopub.execute_input": "2024-10-15T11:28:58.755885Z",
     "iopub.status.busy": "2024-10-15T11:28:58.755064Z",
     "iopub.status.idle": "2024-10-15T11:28:58.761623Z",
     "shell.execute_reply": "2024-10-15T11:28:58.760779Z"
    },
    "papermill": {
     "duration": 0.017305,
     "end_time": "2024-10-15T11:28:58.763581",
     "exception": false,
     "start_time": "2024-10-15T11:28:58.746276",
     "status": "completed"
    },
    "tags": []
   },
   "outputs": [],
   "source": [
    "def get_top_matches(train_features, test_features, num_planes):\n",
    "    train_hash_codes_dict, test_hash_codes = get_hash_codes(train_features, test_features, num_planes)\n",
    "    # For each test image, find the top 50 matches\n",
    "    top_k_matches = [np.array([]) for _ in range(len(test_features))]\n",
    "    for hash in range(2 ** num_planes):\n",
    "        mask = (test_hash_codes == hash)\n",
    "        mask_indices = np.nonzero(mask)[0]\n",
    "        if (len(mask_indices) == 0):\n",
    "            continue\n",
    "        matches = get_top_k_matches(train_features, test_features[mask], train_hash_codes_dict[hash])\n",
    "        for i, idx in enumerate(mask_indices):\n",
    "            top_k_matches[idx] = matches[i]\n",
    "\n",
    "    return top_k_matches"
   ]
  },
  {
   "cell_type": "code",
   "execution_count": 6,
   "id": "c5545b41",
   "metadata": {
    "execution": {
     "iopub.execute_input": "2024-10-15T11:28:58.781062Z",
     "iopub.status.busy": "2024-10-15T11:28:58.780495Z",
     "iopub.status.idle": "2024-10-15T11:28:58.786232Z",
     "shell.execute_reply": "2024-10-15T11:28:58.785411Z"
    },
    "papermill": {
     "duration": 0.016449,
     "end_time": "2024-10-15T11:28:58.788079",
     "exception": false,
     "start_time": "2024-10-15T11:28:58.771630",
     "status": "completed"
    },
    "tags": []
   },
   "outputs": [],
   "source": [
    "def evaluate(train_labels, test_labels, top_k_matches):\n",
    "    # Evaluate for all test images\n",
    "    precision_10 = []\n",
    "    precision_50 = []\n",
    "    mean_ap = []\n",
    "    for i, matches in enumerate(top_k_matches):\n",
    "        true_label = test_labels[i]\n",
    "        matched_labels = train_labels[matches]\n",
    "\n",
    "        precision_10.append(precision_at_k(true_label, matched_labels, 10))\n",
    "        precision_50.append(precision_at_k(true_label, matched_labels, 50))\n",
    "        mean_ap.append(mean_average_precision(true_label, matched_labels))\n",
    "\n",
    "    return np.mean(precision_10), np.mean(precision_50), np.mean(mean_ap)"
   ]
  },
  {
   "cell_type": "code",
   "execution_count": 7,
   "id": "68210558",
   "metadata": {
    "execution": {
     "iopub.execute_input": "2024-10-15T11:28:58.805758Z",
     "iopub.status.busy": "2024-10-15T11:28:58.805034Z",
     "iopub.status.idle": "2024-10-15T11:28:58.809526Z",
     "shell.execute_reply": "2024-10-15T11:28:58.808722Z"
    },
    "papermill": {
     "duration": 0.015195,
     "end_time": "2024-10-15T11:28:58.811379",
     "exception": false,
     "start_time": "2024-10-15T11:28:58.796184",
     "status": "completed"
    },
    "tags": []
   },
   "outputs": [],
   "source": [
    "def run(train_features, train_labels, test_features, test_labels, num_planes):\n",
    "    top_k_matches = get_top_matches(train_features, test_features, num_planes)\n",
    "    return evaluate(train_labels, test_labels, top_k_matches)"
   ]
  },
  {
   "cell_type": "code",
   "execution_count": 8,
   "id": "518cc438",
   "metadata": {
    "execution": {
     "iopub.execute_input": "2024-10-15T11:28:58.829023Z",
     "iopub.status.busy": "2024-10-15T11:28:58.828639Z",
     "iopub.status.idle": "2024-10-15T11:33:32.705926Z",
     "shell.execute_reply": "2024-10-15T11:33:32.704987Z"
    },
    "papermill": {
     "duration": 273.888338,
     "end_time": "2024-10-15T11:33:32.707951",
     "exception": false,
     "start_time": "2024-10-15T11:28:58.819613",
     "status": "completed"
    },
    "tags": []
   },
   "outputs": [
    {
     "name": "stderr",
     "output_type": "stream",
     "text": [
      "Processing Num Clusters:: 100%|██████████| 6/6 [04:33<00:00, 45.50s/it]\n"
     ]
    },
    {
     "data": {
      "image/png": "[encoded data removed]",
      "text/plain": [
       "<Figure size 1000x600 with 1 Axes>"
      ]
     },
     "metadata": {},
     "output_type": "display_data"
    }
   ],
   "source": [
    "num_planes_list = list(range(1, 7))\n",
    "prec_10_list = []\n",
    "prec_50_list = []\n",
    "map_list = []\n",
    "\n",
    "for num_planes in tqdm(num_planes_list, desc='Processing Num Clusters:', total=len(num_planes_list)):\n",
    "    prec_10, prec_50, map_value = run(train_features, train_labels, test_features, test_labels, num_planes)\n",
    "\n",
    "    prec_10_list.append(prec_10)\n",
    "    prec_50_list.append(prec_50)\n",
    "    map_list.append(map_value)\n",
    "\n",
    "\n",
    "import matplotlib.pyplot as plt\n",
    "\n",
    "# Plotting the results\n",
    "plt.figure(figsize=(10, 6))\n",
    "plt.plot(num_planes_list, prec_10_list, marker='o', label='Precision@10')\n",
    "plt.plot(num_planes_list, prec_50_list, marker='s', label='Precision@50')\n",
    "plt.plot(num_planes_list, map_list, marker='d', label='MAP')\n",
    "\n",
    "# Adding titles and labels\n",
    "plt.title('Precision and MAP vs. Num Planes')\n",
    "plt.xlabel('Number of HyperPlanes')\n",
    "plt.ylabel('Values')\n",
    "plt.legend()\n",
    "plt.grid(True)\n",
    "\n",
    "plt.savefig('variation_with_num_hyperplanes.png', dpi=300)\n",
    "# Show the plot\n",
    "plt.show()"
   ]
  }
 ],
 "metadata": {
  "kaggle": {
   "accelerator": "gpu",
   "dataSources": [
    {
     "datasetId": 5867354,
     "sourceId": 9614783,
     "sourceType": "datasetVersion"
    }
   ],
   "dockerImageVersionId": 30787,
   "isGpuEnabled": true,
   "isInternetEnabled": true,
   "language": "python",
   "sourceType": "notebook"
  },
  "kernelspec": {
   "display_name": "Python 3",
   "language": "python",
   "name": "python3"
  },
  "language_info": {
   "codemirror_mode": {
    "name": "ipython",
    "version": 3
   },
   "file_extension": ".py",
   "mimetype": "text/x-python",
   "name": "python",
   "nbconvert_exporter": "python",
   "pygments_lexer": "ipython3",
   "version": "3.10.14"
  },
  "papermill": {
   "default_parameters": {},
   "duration": 489.334818,
   "end_time": "2024-10-15T11:33:33.938977",
   "environment_variables": {},
   "exception": null,
   "input_path": "__notebook__.ipynb",
   "output_path": "__notebook__.ipynb",
   "parameters": {},
   "start_time": "2024-10-15T11:25:24.604159",
   "version": "2.6.0"
  }
 },
 "nbformat": 4,
 "nbformat_minor": 5
}
