{
 "cells": [
  {
   "cell_type": "code",
   "execution_count": 1,
   "id": "f77f140a",
   "metadata": {
    "_cell_guid": "b1076dfc-b9ad-4769-8c92-a6c4dae69d19",
    "_uuid": "8f2839f25d086af736a60e9eeb907d3b93b6e0e5",
    "execution": {
     "iopub.execute_input": "2024-10-15T09:39:51.488416Z",
     "iopub.status.busy": "2024-10-15T09:39:51.488010Z",
     "iopub.status.idle": "2024-10-15T09:43:18.009364Z",
     "shell.execute_reply": "2024-10-15T09:43:18.008146Z"
    },
    "papermill": {
     "duration": 206.531607,
     "end_time": "2024-10-15T09:43:18.012280",
     "exception": false,
     "start_time": "2024-10-15T09:39:51.480673",
     "status": "completed"
    },
    "tags": []
   },
   "outputs": [
    {
     "name": "stderr",
     "output_type": "stream",
     "text": [
      "Loading Train Data: 100%|██████████| 60/60 [03:18<00:00,  3.30s/it]\n",
      "Loading Test Data: 100%|██████████| 3/3 [00:03<00:00,  1.28s/it]"
     ]
    },
    {
     "name": "stdout",
     "output_type": "stream",
     "text": [
      "torch.Size([120000, 2048])\n",
      "torch.Size([120000])\n",
      "torch.Size([20000, 2048])\n",
      "torch.Size([20000])\n"
     ]
    },
    {
     "name": "stderr",
     "output_type": "stream",
     "text": [
      "\n"
     ]
    }
   ],
   "source": [
    "import torch\n",
    "from tqdm import tqdm\n",
    "\n",
    "device = torch.device(\"cuda\" if torch.cuda.is_available() else \"cpu\")\n",
    "\n",
    "train_features = torch.tensor([], dtype=torch.float)\n",
    "train_labels = torch.tensor([], dtype=torch.int)\n",
    "\n",
    "for i in tqdm(range(1, 61), desc='Loading Train Data', total=60):\n",
    "    loaded_tensors = torch.load(f'/kaggle/input/imagenet-1k-data/trainset_{i}.pth', weights_only=True)\n",
    "    train_features = torch.cat((train_features, loaded_tensors['trainset_features']), axis=0)\n",
    "    train_labels = torch.cat((train_labels, loaded_tensors['trainset_labels']), axis=0)\n",
    "    \n",
    "train_indices = torch.randperm(train_features.shape[0])[:120000]\n",
    "train_features = train_features[train_indices]\n",
    "train_labels = train_labels[train_indices]\n",
    "\n",
    "test_features = torch.tensor([], dtype=torch.float)\n",
    "test_labels = torch.tensor([], dtype=torch.int)\n",
    "\n",
    "for i in tqdm(range(1, 4), desc='Loading Test Data', total=3):\n",
    "    loaded_tensors = torch.load(f'/kaggle/input/imagenet-1k-data/testset_{i}.pth', weights_only=True)\n",
    "    test_features = torch.cat((test_features, loaded_tensors['testset_features']), axis=0)\n",
    "    test_labels = torch.cat((test_labels, loaded_tensors['testset_labels']), axis=0)\n",
    "\n",
    "\n",
    "test_indices = torch.randperm(test_features.shape[0])[:20000]\n",
    "test_features = test_features[test_indices]\n",
    "test_labels = test_labels[test_indices]\n",
    "\n",
    "    \n",
    "num_labels = 1000\n",
    "\n",
    "print (train_features.shape)\n",
    "print (train_labels.shape)\n",
    "print (test_features.shape)\n",
    "print (test_labels.shape)"
   ]
  },
  {
   "cell_type": "code",
   "execution_count": 2,
   "id": "826adcca",
   "metadata": {
    "execution": {
     "iopub.execute_input": "2024-10-15T09:43:18.034368Z",
     "iopub.status.busy": "2024-10-15T09:43:18.033894Z",
     "iopub.status.idle": "2024-10-15T09:43:27.233874Z",
     "shell.execute_reply": "2024-10-15T09:43:27.232853Z"
    },
    "papermill": {
     "duration": 9.213065,
     "end_time": "2024-10-15T09:43:27.235778",
     "exception": false,
     "start_time": "2024-10-15T09:43:18.022713",
     "status": "completed"
    },
    "tags": []
   },
   "outputs": [
    {
     "name": "stderr",
     "output_type": "stream",
     "text": [
      "Sampling Negatives: 100%|██████████| 120000/120000 [00:09<00:00, 13064.75it/s]\n"
     ]
    }
   ],
   "source": [
    "from torch.utils.data import Dataset, DataLoader\n",
    "\n",
    "batch_size = 125\n",
    "\n",
    "def sample_negatives(train_features, train_labels, num_negatives = 10):\n",
    "    class CustomDataset(Dataset):\n",
    "        def __init__(self, features, labels):\n",
    "            self.features = features\n",
    "            self.labels = labels\n",
    "\n",
    "        def __len__(self):\n",
    "            return len(self.labels)\n",
    "\n",
    "        def __getitem__(self, idx):\n",
    "            return self.features[idx], self.labels[idx]\n",
    "\n",
    "    dataset = CustomDataset(train_features, train_labels)\n",
    "    dataloader = DataLoader(dataset, batch_size=batch_size, shuffle=False)\n",
    "\n",
    "    neg_indices = torch.empty((train_features.shape[0], num_negatives), dtype=torch.int)\n",
    "    \n",
    "    with tqdm(total=train_features.shape[0], desc='Sampling Negatives') as pbar:\n",
    "        for idx, (batch_features, batch_labels) in enumerate(dataloader):\n",
    "            batch_size_current = batch_features.shape[0]  # Get current batch size\n",
    "            all_indices = torch.arange(batch_size_current)\n",
    "            \n",
    "            for i in range(batch_size_current):\n",
    "                label = batch_labels[i].item()\n",
    "                neg_mask = batch_labels != label\n",
    "                \n",
    "                assert neg_mask.sum() >= 10, \"does not has enough negatives\"\n",
    "                \n",
    "                neg_candidates = all_indices[neg_mask]\n",
    "                neg_indices[i + idx * batch_size] = neg_candidates[torch.randperm(len(neg_candidates))[:num_negatives]]\n",
    "                \n",
    "                pbar.update(1)\n",
    "    \n",
    "    return neg_indices\n",
    "\n",
    "neg_indices = sample_negatives(train_features, train_labels)"
   ]
  },
  {
   "cell_type": "code",
   "execution_count": 3,
   "id": "db637688",
   "metadata": {
    "execution": {
     "iopub.execute_input": "2024-10-15T09:43:27.271649Z",
     "iopub.status.busy": "2024-10-15T09:43:27.271316Z",
     "iopub.status.idle": "2024-10-15T09:43:27.277570Z",
     "shell.execute_reply": "2024-10-15T09:43:27.276753Z"
    },
    "papermill": {
     "duration": 0.026246,
     "end_time": "2024-10-15T09:43:27.279412",
     "exception": false,
     "start_time": "2024-10-15T09:43:27.253166",
     "status": "completed"
    },
    "tags": []
   },
   "outputs": [],
   "source": [
    "from torch.utils.data import Dataset, DataLoader\n",
    "\n",
    "class TrainDataset(Dataset):\n",
    "    def __init__(self, features, neg_indices):\n",
    "        self.features = features\n",
    "        self.neg_indices = neg_indices\n",
    "    \n",
    "    def __len__(self):\n",
    "        return len(self.features)\n",
    "    \n",
    "    def __getitem__(self, idx):\n",
    "        return self.features[idx], self.neg_indices[idx]\n",
    "    \n",
    "train_dataset = TrainDataset(train_features, neg_indices)\n",
    "\n",
    "train_dataloader = DataLoader(train_dataset, batch_size=batch_size, shuffle=True)"
   ]
  },
  {
   "cell_type": "code",
   "execution_count": 4,
   "id": "b4de7b09",
   "metadata": {
    "execution": {
     "iopub.execute_input": "2024-10-15T09:43:27.314855Z",
     "iopub.status.busy": "2024-10-15T09:43:27.314529Z",
     "iopub.status.idle": "2024-10-15T09:43:27.329712Z",
     "shell.execute_reply": "2024-10-15T09:43:27.328861Z"
    },
    "papermill": {
     "duration": 0.035209,
     "end_time": "2024-10-15T09:43:27.331548",
     "exception": false,
     "start_time": "2024-10-15T09:43:27.296339",
     "status": "completed"
    },
    "tags": []
   },
   "outputs": [],
   "source": [
    "import torch.nn as nn\n",
    "import random\n",
    "\n",
    "class NeuralLSH(nn.Module):\n",
    "    def __init__(self, input_dim, hash_dim, num_tables, subset_size):\n",
    "        super(NeuralLSH, self).__init__()\n",
    "        self.input_dim = input_dim\n",
    "        self.hash_dim = hash_dim\n",
    "        self.num_tables = num_tables\n",
    "        self.subset_size = subset_size\n",
    "        \n",
    "        self.device = torch.device(\"cuda\" if torch.cuda.is_available() else \"cpu\")\n",
    "        self.powers_of_two = torch.pow(2, torch.arange(subset_size - 1, -1, -1)).float().to(device)\n",
    "        self.zero = torch.tensor([0], device=self.device)\n",
    "\n",
    "        self.init_hash_functions()\n",
    "        self.hyperplanes = nn.Parameter(torch.randn(self.input_dim, self.hash_dim, device=self.device))\n",
    "        \n",
    "    def init_hash_functions(self):\n",
    "        self.hash_functions = torch.tensor([], device=self.device).long()\n",
    "        indices = list(range(self.hash_dim))\n",
    "        for _ in range(self.num_tables):\n",
    "            random.shuffle(indices)\n",
    "            self.hash_functions = torch.cat((self.hash_functions,\n",
    "                torch.tensor([indices[:self.subset_size]], device=self.device).long()), dim=0)\n",
    "    \n",
    "    def _projection(self, features):\n",
    "        return torch.mm(features, self.hyperplanes)\n",
    "    \n",
    "    def forward(self, features):\n",
    "        return torch.tanh(self._projection(features))\n",
    "    \n",
    "    \n",
    "    def init_hash_tables(self, train_features):\n",
    "        train_features = train_features.to(self.device)\n",
    "        full_hash_codes = self._projection(train_features)\n",
    "        self.hash_tables = []\n",
    "\n",
    "        full_hash_values = torch.transpose(((full_hash_codes[:, self.hash_functions] > 0).float() @ self.powers_of_two).int(), 0, 1)\n",
    "        for table in range(self.num_tables):\n",
    "            self.hash_tables.append([])\n",
    "            for hash_val in range(2 ** self.subset_size):\n",
    "                self.hash_tables[table].append(torch.nonzero(full_hash_values[table] == hash_val).T[0].tolist())      \n",
    "\n",
    "    def get_corpus_indices(self, features):\n",
    "        features = features.to(device)\n",
    "        full_hash_codes = self._projection(features)\n",
    "        \n",
    "        full_hash_values = ((full_hash_codes[:, self.hash_functions] > 0).float() @ self.powers_of_two).int()\n",
    "                \n",
    "        corpus_indices = []\n",
    "        for hash_values in tqdm(full_hash_values, desc='Creating Corpus for Test Image', total=len(full_hash_values)):\n",
    "            indices = set()\n",
    "            for hash_table, hash_val in zip(self.hash_tables, hash_values):\n",
    "                indices.update(hash_table[hash_val.item()])\n",
    "            \n",
    "            corpus_indices.append(list(indices))\n",
    "        \n",
    "        return corpus_indices\n",
    "        "
   ]
  },
  {
   "cell_type": "code",
   "execution_count": 5,
   "id": "09cfa211",
   "metadata": {
    "execution": {
     "iopub.execute_input": "2024-10-15T09:43:27.366473Z",
     "iopub.status.busy": "2024-10-15T09:43:27.366183Z",
     "iopub.status.idle": "2024-10-15T09:43:27.375336Z",
     "shell.execute_reply": "2024-10-15T09:43:27.374637Z"
    },
    "papermill": {
     "duration": 0.02885,
     "end_time": "2024-10-15T09:43:27.377238",
     "exception": false,
     "start_time": "2024-10-15T09:43:27.348388",
     "status": "completed"
    },
    "tags": []
   },
   "outputs": [],
   "source": [
    "def loss_func(hash_codes, neg_indices):\n",
    "    # taking alpha = beta = gamma = 1/3\n",
    "    term1 = torch.sum(torch.abs(torch.sum(hash_codes, dim=1))) / hash_codes.shape[0]\n",
    "    \n",
    "    term2 = torch.sum(torch.abs(torch.abs(hash_codes) - torch.ones(hash_codes.shape[1], device=device))) / hash_codes.shape[0]\n",
    "        \n",
    "    negs = torch.transpose(hash_codes[neg_indices], 1, 2)\n",
    "    term3 = torch.sum(torch.abs(torch.matmul(hash_codes.unsqueeze(1), negs))) / (neg_indices.shape[0] * neg_indices.shape[1])\n",
    "\n",
    "    return (term1 + term2 + term3) / 3\n",
    "\n",
    "def train_model(train_dataloader, model, optimizer, epochs=3, device='cuda'):\n",
    "    model.to(device)\n",
    "    model.train()\n",
    "    for epoch in range(epochs):     \n",
    "        total_loss = 0\n",
    "        \n",
    "        for train_data, neg_idx in train_dataloader:\n",
    "            train_data = train_data.to(device)\n",
    "            neg_idx = neg_idx.to(device)\n",
    "\n",
    "            hash_codes = model(train_data)\n",
    "            loss = loss_func(hash_codes, neg_idx)\n",
    "            total_loss += loss\n",
    "\n",
    "            optimizer.zero_grad()\n",
    "            loss.backward()\n",
    "            optimizer.step()\n",
    "\n",
    "        \n",
    "        if (epoch % 5 == 4 or epoch == epochs - 1):\n",
    "            print(f'Epoch {epoch+1}, Average Loss: {total_loss / len(train_dataloader)}')\n",
    "        "
   ]
  },
  {
   "cell_type": "code",
   "execution_count": 6,
   "id": "d95b2b33",
   "metadata": {
    "execution": {
     "iopub.execute_input": "2024-10-15T09:43:27.412245Z",
     "iopub.status.busy": "2024-10-15T09:43:27.411960Z",
     "iopub.status.idle": "2024-10-15T09:43:28.656897Z",
     "shell.execute_reply": "2024-10-15T09:43:28.656083Z"
    },
    "papermill": {
     "duration": 1.265009,
     "end_time": "2024-10-15T09:43:28.659084",
     "exception": false,
     "start_time": "2024-10-15T09:43:27.394075",
     "status": "completed"
    },
    "tags": []
   },
   "outputs": [],
   "source": [
    "from sklearn.metrics.pairwise import cosine_similarity\n",
    "import numpy as np\n",
    "\n",
    "def get_top_k_matches(train_features, test_feature, cluster_indices, k=50):\n",
    "    # Get the features of images belonging to the same cluster\n",
    "    cluster_features = train_features[cluster_indices]\n",
    "\n",
    "    # Compute cosine similarity between the test image and cluster images\n",
    "    similarities = cosine_similarity(test_feature.reshape(1, -1), cluster_features).flatten()\n",
    "    \n",
    "    # Get the top k most similar images\n",
    "    top_k_indices = np.argsort(similarities)[::-1][:k]\n",
    "    return cluster_indices[top_k_indices]"
   ]
  },
  {
   "cell_type": "code",
   "execution_count": 7,
   "id": "3699f16f",
   "metadata": {
    "execution": {
     "iopub.execute_input": "2024-10-15T09:43:28.694883Z",
     "iopub.status.busy": "2024-10-15T09:43:28.694451Z",
     "iopub.status.idle": "2024-10-15T09:43:28.700514Z",
     "shell.execute_reply": "2024-10-15T09:43:28.699775Z"
    },
    "papermill": {
     "duration": 0.025725,
     "end_time": "2024-10-15T09:43:28.702344",
     "exception": false,
     "start_time": "2024-10-15T09:43:28.676619",
     "status": "completed"
    },
    "tags": []
   },
   "outputs": [],
   "source": [
    "def precision_at_k(true_label, top_k_labels, k):\n",
    "    top_k = top_k_labels[:k]\n",
    "    correct = torch.sum(top_k == true_label).item()\n",
    "    return correct / k\n",
    "\n",
    "def mean_average_precision(true_label, top_k_labels):\n",
    "    # Calculate precision at each rank and then compute average precision\n",
    "    precisions = []\n",
    "    correct = 0\n",
    "    for i, label in enumerate(top_k_labels):\n",
    "        if label == true_label:\n",
    "            correct += 1\n",
    "            precisions.append(correct / (i + 1))\n",
    "    return np.mean(precisions) if precisions else 0"
   ]
  },
  {
   "cell_type": "code",
   "execution_count": 8,
   "id": "5cbad6e4",
   "metadata": {
    "execution": {
     "iopub.execute_input": "2024-10-15T09:43:28.737216Z",
     "iopub.status.busy": "2024-10-15T09:43:28.736924Z",
     "iopub.status.idle": "2024-10-15T09:43:28.742371Z",
     "shell.execute_reply": "2024-10-15T09:43:28.741651Z"
    },
    "papermill": {
     "duration": 0.025053,
     "end_time": "2024-10-15T09:43:28.744187",
     "exception": false,
     "start_time": "2024-10-15T09:43:28.719134",
     "status": "completed"
    },
    "tags": []
   },
   "outputs": [],
   "source": [
    "def get_top_matches(train_features, test_features, corpus_indices):\n",
    "    # For each test image, find the top 50 matches\n",
    "    top_k_matches = []\n",
    "    for i, test_feature in tqdm(enumerate(test_features), total=len(test_features)):\n",
    "        cluster_indices = np.array(corpus_indices[i])\n",
    "\n",
    "        if (len(cluster_indices) == 0):\n",
    "            top_k_matches.append([])\n",
    "            continue\n",
    "        \n",
    "        # Get the top 50 matches based on cosine similarity\n",
    "        top_k_matches.append(get_top_k_matches(train_features, test_feature, cluster_indices))\n",
    "\n",
    "    return top_k_matches"
   ]
  },
  {
   "cell_type": "code",
   "execution_count": 9,
   "id": "2d899699",
   "metadata": {
    "execution": {
     "iopub.execute_input": "2024-10-15T09:43:28.779073Z",
     "iopub.status.busy": "2024-10-15T09:43:28.778790Z",
     "iopub.status.idle": "2024-10-15T09:43:28.784647Z",
     "shell.execute_reply": "2024-10-15T09:43:28.783816Z"
    },
    "papermill": {
     "duration": 0.025578,
     "end_time": "2024-10-15T09:43:28.786593",
     "exception": false,
     "start_time": "2024-10-15T09:43:28.761015",
     "status": "completed"
    },
    "tags": []
   },
   "outputs": [],
   "source": [
    "def evaluate(train_labels, test_labels, top_k_matches):\n",
    "    # Evaluate for all test images\n",
    "    precision_10 = []\n",
    "    precision_50 = []\n",
    "    mean_ap = []\n",
    "    for i, matches in enumerate(top_k_matches):\n",
    "    # for i, matches in tqdm(enumerate(top_k_matches), desc='Evaluating Metrics', unit='image', total=len(top_k_matches)):\n",
    "        true_label = test_labels[i]\n",
    "        matched_labels = train_labels[matches]\n",
    "        \n",
    "        precision_10.append(precision_at_k(true_label, matched_labels, 10))\n",
    "        precision_50.append(precision_at_k(true_label, matched_labels, 50))\n",
    "        mean_ap.append(mean_average_precision(true_label, matched_labels))\n",
    "\n",
    "    return np.mean(precision_10), np.mean(precision_50), np.mean(mean_ap)"
   ]
  },
  {
   "cell_type": "code",
   "execution_count": 10,
   "id": "a08d9171",
   "metadata": {
    "execution": {
     "iopub.execute_input": "2024-10-15T09:43:28.821444Z",
     "iopub.status.busy": "2024-10-15T09:43:28.821183Z",
     "iopub.status.idle": "2024-10-15T09:43:28.825160Z",
     "shell.execute_reply": "2024-10-15T09:43:28.824304Z"
    },
    "papermill": {
     "duration": 0.023607,
     "end_time": "2024-10-15T09:43:28.827064",
     "exception": false,
     "start_time": "2024-10-15T09:43:28.803457",
     "status": "completed"
    },
    "tags": []
   },
   "outputs": [],
   "source": [
    "num_features = train_features.shape[1]\n",
    "hash_dim = 16\n",
    "num_tables = 10\n",
    "subset_size = 8"
   ]
  },
  {
   "cell_type": "code",
   "execution_count": 11,
   "id": "2fc26a1c",
   "metadata": {
    "execution": {
     "iopub.execute_input": "2024-10-15T09:43:28.862170Z",
     "iopub.status.busy": "2024-10-15T09:43:28.861490Z",
     "iopub.status.idle": "2024-10-15T09:45:31.299861Z",
     "shell.execute_reply": "2024-10-15T09:45:31.298642Z"
    },
    "papermill": {
     "duration": 122.458476,
     "end_time": "2024-10-15T09:45:31.302321",
     "exception": false,
     "start_time": "2024-10-15T09:43:28.843845",
     "status": "completed"
    },
    "tags": []
   },
   "outputs": [
    {
     "name": "stdout",
     "output_type": "stream",
     "text": [
      "Epoch 5, Average Loss: 1.8102331161499023\n",
      "Epoch 10, Average Loss: 1.7634462118148804\n",
      "Epoch 15, Average Loss: 1.7298071384429932\n",
      "Epoch 20, Average Loss: 1.7103828191757202\n",
      "Epoch 25, Average Loss: 1.6940385103225708\n",
      "Epoch 30, Average Loss: 1.6800695657730103\n",
      "Epoch 35, Average Loss: 1.6667413711547852\n",
      "Epoch 40, Average Loss: 1.6598576307296753\n"
     ]
    }
   ],
   "source": [
    "import torch.optim as optim\n",
    "\n",
    "model = NeuralLSH(num_features, hash_dim, num_tables, subset_size)\n",
    "\n",
    "optimizer = optim.Adam(model.parameters(), lr=1e-3)\n",
    "\n",
    "train_model(train_dataloader, model, optimizer, 40)"
   ]
  },
  {
   "cell_type": "code",
   "execution_count": 12,
   "id": "ebd54c1e",
   "metadata": {
    "execution": {
     "iopub.execute_input": "2024-10-15T09:45:31.342120Z",
     "iopub.status.busy": "2024-10-15T09:45:31.341574Z",
     "iopub.status.idle": "2024-10-15T09:45:31.914784Z",
     "shell.execute_reply": "2024-10-15T09:45:31.913955Z"
    },
    "papermill": {
     "duration": 0.594515,
     "end_time": "2024-10-15T09:45:31.917011",
     "exception": false,
     "start_time": "2024-10-15T09:45:31.322496",
     "status": "completed"
    },
    "tags": []
   },
   "outputs": [],
   "source": [
    "model.init_hash_tables(train_features)"
   ]
  },
  {
   "cell_type": "code",
   "execution_count": 13,
   "id": "4a127be4",
   "metadata": {
    "execution": {
     "iopub.execute_input": "2024-10-15T09:45:31.953507Z",
     "iopub.status.busy": "2024-10-15T09:45:31.953174Z",
     "iopub.status.idle": "2024-10-15T09:45:49.611265Z",
     "shell.execute_reply": "2024-10-15T09:45:49.610281Z"
    },
    "papermill": {
     "duration": 17.678568,
     "end_time": "2024-10-15T09:45:49.613328",
     "exception": false,
     "start_time": "2024-10-15T09:45:31.934760",
     "status": "completed"
    },
    "tags": []
   },
   "outputs": [
    {
     "name": "stderr",
     "output_type": "stream",
     "text": [
      "Creating Corpus for Test Image: 100%|██████████| 20000/20000 [00:17<00:00, 1135.59it/s]\n"
     ]
    }
   ],
   "source": [
    "corpus_indices = model.get_corpus_indices(test_features)"
   ]
  },
  {
   "cell_type": "code",
   "execution_count": 14,
   "id": "9a3b338e",
   "metadata": {
    "execution": {
     "iopub.execute_input": "2024-10-15T09:45:49.674726Z",
     "iopub.status.busy": "2024-10-15T09:45:49.674046Z",
     "iopub.status.idle": "2024-10-15T10:28:21.436514Z",
     "shell.execute_reply": "2024-10-15T10:28:21.435191Z"
    },
    "papermill": {
     "duration": 2551.795376,
     "end_time": "2024-10-15T10:28:21.439031",
     "exception": false,
     "start_time": "2024-10-15T09:45:49.643655",
     "status": "completed"
    },
    "tags": []
   },
   "outputs": [
    {
     "name": "stderr",
     "output_type": "stream",
     "text": [
      "100%|██████████| 20000/20000 [42:31<00:00,  7.84it/s]\n"
     ]
    }
   ],
   "source": [
    "with torch.no_grad():\n",
    "    top_matches = get_top_matches(train_features, test_features, corpus_indices)"
   ]
  },
  {
   "cell_type": "code",
   "execution_count": 15,
   "id": "585ed85f",
   "metadata": {
    "execution": {
     "iopub.execute_input": "2024-10-15T10:28:24.306432Z",
     "iopub.status.busy": "2024-10-15T10:28:24.306029Z",
     "iopub.status.idle": "2024-10-15T10:28:32.268892Z",
     "shell.execute_reply": "2024-10-15T10:28:32.267802Z"
    },
    "papermill": {
     "duration": 9.387671,
     "end_time": "2024-10-15T10:28:32.271110",
     "exception": false,
     "start_time": "2024-10-15T10:28:22.883439",
     "status": "completed"
    },
    "tags": []
   },
   "outputs": [
    {
     "name": "stdout",
     "output_type": "stream",
     "text": [
      "Mean Precision@10: 0.5159\n",
      "Mean Precision@50: 0.3735\n",
      "Mean Average Precision: 0.5326\n"
     ]
    }
   ],
   "source": [
    "precision_10, precision_50, mean_ap = evaluate(train_labels, test_labels, top_matches)\n",
    "\n",
    "print(f'Mean Precision@10: {precision_10:.4f}')\n",
    "print(f'Mean Precision@50: {precision_50:.4f}')\n",
    "print(f'Mean Average Precision: {mean_ap:.4f}')"
   ]
  }
 ],
 "metadata": {
  "kaggle": {
   "accelerator": "gpu",
   "dataSources": [
    {
     "datasetId": 5867354,
     "sourceId": 9614783,
     "sourceType": "datasetVersion"
    }
   ],
   "dockerImageVersionId": 30787,
   "isGpuEnabled": true,
   "isInternetEnabled": true,
   "language": "python",
   "sourceType": "notebook"
  },
  "kernelspec": {
   "display_name": "Python 3",
   "language": "python",
   "name": "python3"
  },
  "language_info": {
   "codemirror_mode": {
    "name": "ipython",
    "version": 3
   },
   "file_extension": ".py",
   "mimetype": "text/x-python",
   "name": "python",
   "nbconvert_exporter": "python",
   "pygments_lexer": "ipython3",
   "version": "3.10.14"
  },
  "papermill": {
   "default_parameters": {},
   "duration": 2927.587293,
   "end_time": "2024-10-15T10:28:36.364214",
   "environment_variables": {},
   "exception": null,
   "input_path": "__notebook__.ipynb",
   "output_path": "__notebook__.ipynb",
   "parameters": {},
   "start_time": "2024-10-15T09:39:48.776921",
   "version": "2.6.0"
  }
 },
 "nbformat": 4,
 "nbformat_minor": 5
}
