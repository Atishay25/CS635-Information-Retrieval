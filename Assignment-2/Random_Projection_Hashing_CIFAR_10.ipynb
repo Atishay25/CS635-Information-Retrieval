{
 "cells": [
  {
   "cell_type": "code",
   "execution_count": 1,
   "id": "d0e87bd3",
   "metadata": {
    "_cell_guid": "b1076dfc-b9ad-4769-8c92-a6c4dae69d19",
    "_uuid": "8f2839f25d086af736a60e9eeb907d3b93b6e0e5",
    "execution": {
     "iopub.execute_input": "2024-10-12T08:40:59.617524Z",
     "iopub.status.busy": "2024-10-12T08:40:59.617178Z",
     "iopub.status.idle": "2024-10-12T08:41:11.317188Z",
     "shell.execute_reply": "2024-10-12T08:41:11.316405Z"
    },
    "papermill": {
     "duration": 11.707555,
     "end_time": "2024-10-12T08:41:11.319556",
     "exception": false,
     "start_time": "2024-10-12T08:40:59.612001",
     "status": "completed"
    },
    "tags": []
   },
   "outputs": [
    {
     "name": "stdout",
     "output_type": "stream",
     "text": [
      "Downloading https://www.cs.toronto.edu/~kriz/cifar-10-python.tar.gz to ./data/cifar-10-python.tar.gz\n"
     ]
    },
    {
     "name": "stderr",
     "output_type": "stream",
     "text": [
      "100%|██████████| 170498071/170498071 [00:03<00:00, 48342317.03it/s]\n"
     ]
    },
    {
     "name": "stdout",
     "output_type": "stream",
     "text": [
      "Extracting ./data/cifar-10-python.tar.gz to ./data\n",
      "Files already downloaded and verified\n"
     ]
    }
   ],
   "source": [
    "import torch\n",
    "import torchvision\n",
    "import torchvision.transforms as transforms\n",
    "\n",
    "# Define transforms for data augmentation and normalization\n",
    "transform = transforms.Compose([transforms.Resize((224, 224)), \n",
    "                                transforms.ToTensor(), \n",
    "                                transforms.Normalize(mean=(0.485, 0.456, 0.406), std=(0.229, 0.224, 0.225))\n",
    "                               ])\n",
    "\n",
    "# Load CIFAR-10 dataset\n",
    "trainset = torchvision.datasets.CIFAR10(root='./data', train=True, download=True, transform=transform)\n",
    "testset = torchvision.datasets.CIFAR10(root='./data', train=False, download=True, transform=transform)\n",
    "num_labels = 10\n",
    "\n",
    "device = 'cuda'\n",
    "\n",
    "# Create DataLoader for batch processing\n",
    "trainloader = torch.utils.data.DataLoader(trainset, batch_size=1000, shuffle=False, num_workers=2)\n",
    "testloader = torch.utils.data.DataLoader(testset, batch_size=1000, shuffle=False, num_workers=2)"
   ]
  },
  {
   "cell_type": "code",
   "execution_count": 2,
   "id": "07488e5c",
   "metadata": {
    "execution": {
     "iopub.execute_input": "2024-10-12T08:41:11.333971Z",
     "iopub.status.busy": "2024-10-12T08:41:11.333599Z",
     "iopub.status.idle": "2024-10-12T08:42:58.185127Z",
     "shell.execute_reply": "2024-10-12T08:42:58.183975Z"
    },
    "papermill": {
     "duration": 106.861071,
     "end_time": "2024-10-12T08:42:58.187447",
     "exception": false,
     "start_time": "2024-10-12T08:41:11.326376",
     "status": "completed"
    },
    "tags": []
   },
   "outputs": [
    {
     "name": "stderr",
     "output_type": "stream",
     "text": [
      "/opt/conda/lib/python3.10/site-packages/torchvision/models/_utils.py:208: UserWarning: The parameter 'pretrained' is deprecated since 0.13 and may be removed in the future, please use 'weights' instead.\n",
      "  warnings.warn(\n",
      "/opt/conda/lib/python3.10/site-packages/torchvision/models/_utils.py:223: UserWarning: Arguments other than a weight enum or `None` for 'weights' are deprecated since 0.13 and may be removed in the future. The current behavior is equivalent to passing `weights=ResNet50_Weights.IMAGENET1K_V1`. You can also use `weights=ResNet50_Weights.DEFAULT` to get the most up-to-date weights.\n",
      "  warnings.warn(msg)\n",
      "Downloading: \"https://download.pytorch.org/models/resnet50-0676ba61.pth\" to /root/.cache/torch/hub/checkpoints/resnet50-0676ba61.pth\n",
      "100%|██████████| 97.8M/97.8M [00:00<00:00, 189MB/s]\n",
      "Extracting features from Train Set: 100%|██████████| 50/50 [01:26<00:00,  1.73s/batch]\n",
      "Extracting features from Test Set: 100%|██████████| 10/10 [00:18<00:00,  1.86s/batch]\n"
     ]
    }
   ],
   "source": [
    "import torch.nn as nn\n",
    "import torchvision.models as models\n",
    "import numpy as np\n",
    "from tqdm import tqdm\n",
    "\n",
    "# Load pretrained ResNet model and modify it to act as a feature extractor\n",
    "resnet50 = models.resnet50(pretrained=True)\n",
    "resnet50 = nn.Sequential(*list(resnet50.children())[:-1])  # Remove the final classification layer\n",
    "\n",
    "device = torch.device(\"cuda\" if torch.cuda.is_available() else \"cpu\")\n",
    "resnet50 = resnet50.to(device)\n",
    "\n",
    "# Function to extract features\n",
    "def extract_features(dataloader, dataset_name='Dataset'):\n",
    "    resnet50.eval()  # Set model to evaluation mode\n",
    "    features = []\n",
    "    labels = []\n",
    "    with torch.no_grad():\n",
    "        for inputs, targets in tqdm(dataloader, desc=f'Extracting features from {dataset_name}', unit='batch', total=len(dataloader)):\n",
    "            outputs = resnet50(inputs.to(device)).squeeze()\n",
    "            features.append(outputs.cpu())\n",
    "            labels.append(targets)\n",
    "    return torch.vstack(features), torch.hstack(labels)\n",
    "\n",
    "\n",
    "\n",
    "# Extract features from train and test set\n",
    "train_features, train_labels = extract_features(trainloader, 'Train Set')\n",
    "test_features, test_labels = extract_features(testloader, 'Test Set')"
   ]
  },
  {
   "cell_type": "code",
   "execution_count": 3,
   "id": "7b0bc20b",
   "metadata": {
    "execution": {
     "iopub.execute_input": "2024-10-12T08:42:58.218678Z",
     "iopub.status.busy": "2024-10-12T08:42:58.218284Z",
     "iopub.status.idle": "2024-10-12T08:42:59.460353Z",
     "shell.execute_reply": "2024-10-12T08:42:59.459348Z"
    },
    "papermill": {
     "duration": 1.260405,
     "end_time": "2024-10-12T08:42:59.462815",
     "exception": false,
     "start_time": "2024-10-12T08:42:58.202410",
     "status": "completed"
    },
    "tags": []
   },
   "outputs": [],
   "source": [
    "from sklearn.metrics.pairwise import cosine_similarity\n",
    "\n",
    "def get_top_k_matches(train_features, test_feature, cluster_indices, k=50):\n",
    "    # Get the features of images belonging to the same cluster\n",
    "    cluster_features = train_features[cluster_indices]\n",
    "\n",
    "    # Compute cosine similarity between the test image and cluster images\n",
    "    similarities = cosine_similarity(test_feature.reshape(1, -1), cluster_features).flatten()\n",
    "    \n",
    "    # Get the top k most similar images\n",
    "    top_k_indices = np.argsort(similarities)[::-1][:k]\n",
    "    return cluster_indices[top_k_indices]"
   ]
  },
  {
   "cell_type": "code",
   "execution_count": 4,
   "id": "e289f1bd",
   "metadata": {
    "execution": {
     "iopub.execute_input": "2024-10-12T08:42:59.488671Z",
     "iopub.status.busy": "2024-10-12T08:42:59.488249Z",
     "iopub.status.idle": "2024-10-12T08:42:59.494473Z",
     "shell.execute_reply": "2024-10-12T08:42:59.493627Z"
    },
    "papermill": {
     "duration": 0.021186,
     "end_time": "2024-10-12T08:42:59.496391",
     "exception": false,
     "start_time": "2024-10-12T08:42:59.475205",
     "status": "completed"
    },
    "tags": []
   },
   "outputs": [],
   "source": [
    "def precision_at_k(true_label, top_k_labels, k):\n",
    "    top_k = top_k_labels[:k]\n",
    "    correct = torch.sum(top_k == true_label).item()\n",
    "    return correct / k\n",
    "\n",
    "def mean_average_precision(true_label, top_k_labels):\n",
    "    # Calculate precision at each rank and then compute average precision\n",
    "    precisions = []\n",
    "    correct = 0\n",
    "    for i, label in enumerate(top_k_labels):\n",
    "        if label == true_label:\n",
    "            correct += 1\n",
    "            precisions.append(correct / (i + 1))\n",
    "    return np.mean(precisions) if precisions else 0\n"
   ]
  },
  {
   "cell_type": "code",
   "execution_count": 5,
   "id": "179165ae",
   "metadata": {
    "execution": {
     "iopub.execute_input": "2024-10-12T08:42:59.521300Z",
     "iopub.status.busy": "2024-10-12T08:42:59.520985Z",
     "iopub.status.idle": "2024-10-12T08:42:59.529952Z",
     "shell.execute_reply": "2024-10-12T08:42:59.529183Z"
    },
    "papermill": {
     "duration": 0.023504,
     "end_time": "2024-10-12T08:42:59.531801",
     "exception": false,
     "start_time": "2024-10-12T08:42:59.508297",
     "status": "completed"
    },
    "tags": []
   },
   "outputs": [],
   "source": [
    "from collections import defaultdict\n",
    "\n",
    "def generate_random_hyperplanes(num_features, num_planes):\n",
    "    return torch.randn(num_features, num_planes)\n",
    "\n",
    "def projection_hash(features, hyperplanes):\n",
    "    projections = torch.mm(features, hyperplanes)\n",
    "    hash_codes = (projections > 0).int()\n",
    "    return hash_codes\n",
    "\n",
    "def get_hash_codes(train_features, test_features, num_planes):\n",
    "    assert train_features.shape[1] == test_features.shape[1], \"Feature dimensions of train and test sets must match.\"\n",
    "    hyperplanes = generate_random_hyperplanes(train_features.shape[1], num_planes)\n",
    "    \n",
    "    train_hash_codes = projection_hash(train_features, hyperplanes)\n",
    "\n",
    "    powers_of_two = torch.pow(2, torch.arange(num_planes - 1, -1, -1)).int()\n",
    "    \n",
    "    train_hash_codes_dict = defaultdict(list)\n",
    "    for i, train_hash_code in enumerate(train_hash_codes):\n",
    "        key = torch.dot(train_hash_code, powers_of_two).item()\n",
    "        train_hash_codes_dict[key].append(i)\n",
    "\n",
    "    for code in train_hash_codes_dict.keys():\n",
    "        train_hash_codes_dict[code] = np.array(train_hash_codes_dict[code])\n",
    "    \n",
    "    test_hash_codes = projection_hash(test_features, hyperplanes)\n",
    "    test_hash_codes = np.array([torch.dot(test_hash_code, powers_of_two).item() for test_hash_code in test_hash_codes])\n",
    "    \n",
    "    return train_hash_codes_dict, test_hash_codes"
   ]
  },
  {
   "cell_type": "code",
   "execution_count": 6,
   "id": "6042c6b9",
   "metadata": {
    "execution": {
     "iopub.execute_input": "2024-10-12T08:42:59.557693Z",
     "iopub.status.busy": "2024-10-12T08:42:59.557356Z",
     "iopub.status.idle": "2024-10-12T08:42:59.562945Z",
     "shell.execute_reply": "2024-10-12T08:42:59.562154Z"
    },
    "papermill": {
     "duration": 0.021075,
     "end_time": "2024-10-12T08:42:59.564931",
     "exception": false,
     "start_time": "2024-10-12T08:42:59.543856",
     "status": "completed"
    },
    "tags": []
   },
   "outputs": [],
   "source": [
    "def get_top_matches(train_features, test_features, num_planes):\n",
    "    train_hash_codes_dict, test_hash_codes = get_hash_codes(train_features, test_features, num_planes)\n",
    "\n",
    "    # For each test image, find the top 50 matches\n",
    "    top_k_matches = []\n",
    "    for i, test_feature in enumerate(test_features):\n",
    "        cluster_indices = train_hash_codes_dict[test_hash_codes[i]]\n",
    "\n",
    "        if (len(cluster_indices) == 0):\n",
    "            top_k_matches.append([])\n",
    "            continue\n",
    "        \n",
    "        # Get the top 50 matches based on cosine similarity\n",
    "        top_k_matches.append(get_top_k_matches(train_features, test_feature, cluster_indices))\n",
    "\n",
    "    return top_k_matches"
   ]
  },
  {
   "cell_type": "code",
   "execution_count": 7,
   "id": "245f0474",
   "metadata": {
    "execution": {
     "iopub.execute_input": "2024-10-12T08:42:59.590072Z",
     "iopub.status.busy": "2024-10-12T08:42:59.589480Z",
     "iopub.status.idle": "2024-10-12T08:42:59.595397Z",
     "shell.execute_reply": "2024-10-12T08:42:59.594580Z"
    },
    "papermill": {
     "duration": 0.020642,
     "end_time": "2024-10-12T08:42:59.597433",
     "exception": false,
     "start_time": "2024-10-12T08:42:59.576791",
     "status": "completed"
    },
    "tags": []
   },
   "outputs": [],
   "source": [
    "def evaluate(train_labels, test_labels, top_k_matches):\n",
    "    # Evaluate for all test images\n",
    "    precision_10 = []\n",
    "    precision_50 = []\n",
    "    mean_ap = []\n",
    "    for i, matches in enumerate(top_k_matches):\n",
    "        true_label = test_labels[i]\n",
    "        matched_labels = train_labels[matches]\n",
    "\n",
    "        precision_10.append(precision_at_k(true_label, matched_labels, 10))\n",
    "        precision_50.append(precision_at_k(true_label, matched_labels, 50))\n",
    "        mean_ap.append(mean_average_precision(true_label, matched_labels))\n",
    "\n",
    "    return np.mean(precision_10), np.mean(precision_50), np.mean(mean_ap)"
   ]
  },
  {
   "cell_type": "code",
   "execution_count": 8,
   "id": "ef5e5cf5",
   "metadata": {
    "execution": {
     "iopub.execute_input": "2024-10-12T08:42:59.622238Z",
     "iopub.status.busy": "2024-10-12T08:42:59.621953Z",
     "iopub.status.idle": "2024-10-12T08:42:59.626239Z",
     "shell.execute_reply": "2024-10-12T08:42:59.625402Z"
    },
    "papermill": {
     "duration": 0.018847,
     "end_time": "2024-10-12T08:42:59.628183",
     "exception": false,
     "start_time": "2024-10-12T08:42:59.609336",
     "status": "completed"
    },
    "tags": []
   },
   "outputs": [],
   "source": [
    "def run(train_features, train_labels, test_features, test_labels, num_planes):\n",
    "    top_k_matches = get_top_matches(train_features, test_features, num_planes)\n",
    "    return evaluate(train_labels, test_labels, top_k_matches)"
   ]
  },
  {
   "cell_type": "code",
   "execution_count": 9,
   "id": "36a43a9a",
   "metadata": {
    "execution": {
     "iopub.execute_input": "2024-10-12T08:42:59.653899Z",
     "iopub.status.busy": "2024-10-12T08:42:59.653555Z",
     "iopub.status.idle": "2024-10-12T14:44:58.861908Z",
     "shell.execute_reply": "2024-10-12T14:44:58.860973Z"
    },
    "papermill": {
     "duration": 21719.223914,
     "end_time": "2024-10-12T14:44:58.864006",
     "exception": false,
     "start_time": "2024-10-12T08:42:59.640092",
     "status": "completed"
    },
    "tags": []
   },
   "outputs": [
    {
     "name": "stderr",
     "output_type": "stream",
     "text": [
      "Processing Num Clusters:: 100%|██████████| 15/15 [6:01:58<00:00, 1447.89s/it]\n"
     ]
    },
    {
     "data": {
      "image/png": "[encoded data removed]",
      "text/plain": [
       "<Figure size 1000x600 with 1 Axes>"
      ]
     },
     "metadata": {},
     "output_type": "display_data"
    }
   ],
   "source": [
    "num_planes_list = list(range(1, 16))\n",
    "prec_10_list = []\n",
    "prec_50_list = []\n",
    "map_list = []\n",
    "\n",
    "for num_planes in tqdm(num_planes_list, desc='Processing Num Clusters:', total=len(num_planes_list)):\n",
    "    prec_10, prec_50, map_value = run(train_features, train_labels, test_features, test_labels, num_planes)\n",
    "\n",
    "    prec_10_list.append(prec_10)\n",
    "    prec_50_list.append(prec_50)\n",
    "    map_list.append(map_value)\n",
    "\n",
    "\n",
    "import matplotlib.pyplot as plt\n",
    "\n",
    "# Plotting the results\n",
    "plt.figure(figsize=(10, 6))\n",
    "plt.plot(num_planes_list, prec_10_list, marker='o', label='Precision@10')\n",
    "plt.plot(num_planes_list, prec_50_list, marker='s', label='Precision@50')\n",
    "plt.plot(num_planes_list, map_list, marker='d', label='MAP')\n",
    "\n",
    "# Adding titles and labels\n",
    "plt.title('Precision and MAP vs. Num Planes')\n",
    "plt.xlabel('Number of HyperPlanes')\n",
    "plt.ylabel('Values')\n",
    "plt.legend()\n",
    "plt.grid(True)\n",
    "\n",
    "plt.savefig('variation_with_num_hyperplanes.png', dpi=300)\n",
    "# Show the plot\n",
    "plt.show()"
   ]
  }
 ],
 "metadata": {
  "kaggle": {
   "accelerator": "gpu",
   "dataSources": [],
   "dockerImageVersionId": 30787,
   "isGpuEnabled": true,
   "isInternetEnabled": true,
   "language": "python",
   "sourceType": "notebook"
  },
  "kernelspec": {
   "display_name": "Python 3",
   "language": "python",
   "name": "python3"
  },
  "language_info": {
   "codemirror_mode": {
    "name": "ipython",
    "version": 3
   },
   "file_extension": ".py",
   "mimetype": "text/x-python",
   "name": "python",
   "nbconvert_exporter": "python",
   "pygments_lexer": "ipython3",
   "version": "3.10.14"
  },
  "papermill": {
   "default_parameters": {},
   "duration": 21843.597808,
   "end_time": "2024-10-12T14:45:00.501716",
   "environment_variables": {},
   "exception": null,
   "input_path": "__notebook__.ipynb",
   "output_path": "__notebook__.ipynb",
   "parameters": {},
   "start_time": "2024-10-12T08:40:56.903908",
   "version": "2.6.0"
  }
 },
 "nbformat": 4,
 "nbformat_minor": 5
}
